{
 "cells": [
  {
   "cell_type": "code",
   "execution_count": 18,
   "id": "9a564647",
   "metadata": {},
   "outputs": [],
   "source": [
    "from sklearn import datasets\n",
    "from sklearn.model_selection import train_test_split\n",
    "import tensorflow as tf"
   ]
  },
  {
   "cell_type": "code",
   "execution_count": 19,
   "id": "3c0f7c3d",
   "metadata": {},
   "outputs": [],
   "source": [
    "classes = {0:'setosa', 1:'versicolor', 2:'virginica'}"
   ]
  },
  {
   "cell_type": "code",
   "execution_count": 20,
   "id": "7505340d",
   "metadata": {},
   "outputs": [],
   "source": [
    "iris = datasets.load_iris()"
   ]
  },
  {
   "cell_type": "code",
   "execution_count": 21,
   "id": "ac7a0423",
   "metadata": {},
   "outputs": [],
   "source": [
    "X = iris.data\n",
    "y = iris.target"
   ]
  },
  {
   "cell_type": "code",
   "execution_count": 22,
   "id": "ed2c165a",
   "metadata": {},
   "outputs": [],
   "source": [
    "X_train, X_test, y_train, y_test = train_test_split(X, y, test_size=0.2, random_state = 1)"
   ]
  },
  {
   "cell_type": "code",
   "execution_count": 23,
   "id": "1aabe3ce",
   "metadata": {},
   "outputs": [],
   "source": [
    "model = tf.keras.models.Sequential()\n",
    "model.add(tf.keras.layers.Dense(32, input_shape = (4,), activation = 'relu')) \n",
    "model.add(tf.keras.layers.Dense(32, activation='relu'))\n",
    "model.add(tf.keras.layers.Dense(10, activation='softmax'))"
   ]
  },
  {
   "cell_type": "code",
   "execution_count": 24,
   "id": "13e3d5f9",
   "metadata": {},
   "outputs": [],
   "source": [
    "model.compile(optimizer='rmsprop',\n",
    "              loss='sparse_categorical_crossentropy',\n",
    "              metrics=['accuracy'])"
   ]
  },
  {
   "cell_type": "code",
   "execution_count": 25,
   "id": "3d31ed21",
   "metadata": {},
   "outputs": [
    {
     "name": "stdout",
     "output_type": "stream",
     "text": [
      "Train on 120 samples\n",
      "Epoch 1/10\n",
      "120/120 [==============================] - 0s 4ms/sample - loss: 1.3054 - accuracy: 0.4750\n",
      "Epoch 2/10\n",
      "120/120 [==============================] - 0s 884us/sample - loss: 0.6225 - accuracy: 0.7250\n",
      "Epoch 3/10\n",
      "120/120 [==============================] - 0s 1ms/sample - loss: 0.4581 - accuracy: 0.7583\n",
      "Epoch 4/10\n",
      "120/120 [==============================] - 0s 903us/sample - loss: 0.4048 - accuracy: 0.7667\n",
      "Epoch 5/10\n",
      "120/120 [==============================] - 0s 883us/sample - loss: 0.3750 - accuracy: 0.8583\n",
      "Epoch 6/10\n",
      "120/120 [==============================] - 0s 886us/sample - loss: 0.3339 - accuracy: 0.8500\n",
      "Epoch 7/10\n",
      "120/120 [==============================] - 0s 882us/sample - loss: 0.2997 - accuracy: 0.9000\n",
      "Epoch 8/10\n",
      "120/120 [==============================] - 0s 874us/sample - loss: 0.2631 - accuracy: 0.9167\n",
      "Epoch 9/10\n",
      "120/120 [==============================] - 0s 871us/sample - loss: 0.2411 - accuracy: 0.9500\n",
      "Epoch 10/10\n",
      "120/120 [==============================] - 0s 875us/sample - loss: 0.2121 - accuracy: 0.9250\n"
     ]
    },
    {
     "data": {
      "text/plain": [
       "<tensorflow.python.keras.callbacks.History at 0x7fac10839048>"
      ]
     },
     "execution_count": 25,
     "metadata": {},
     "output_type": "execute_result"
    }
   ],
   "source": [
    "model.fit(X_train, y_train, epochs = 10, batch_size = 1)"
   ]
  },
  {
   "cell_type": "code",
   "execution_count": 26,
   "id": "a274a270",
   "metadata": {},
   "outputs": [
    {
     "name": "stdout",
     "output_type": "stream",
     "text": [
      "\r",
      "30/1 [====================================================================================================================================================================================================================================================================================================================================================================================================================================================================================================================================================================================================================================================================================================================================================================================================================================================================================================================================] - 0s 5ms/sample - loss: 0.1841 - accuracy: 0.9667\n"
     ]
    }
   ],
   "source": [
    "test_loss_d, test_acc_d = model.evaluate(X_test, y_test)"
   ]
  },
  {
   "cell_type": "code",
   "execution_count": 27,
   "id": "a6d42d65",
   "metadata": {},
   "outputs": [],
   "source": [
    "y_train = tf.keras.utils.to_categorical(y_train) \n",
    "y_test = tf.keras.utils.to_categorical(y_test) "
   ]
  },
  {
   "cell_type": "code",
   "execution_count": 28,
   "id": "77434f05",
   "metadata": {},
   "outputs": [],
   "source": [
    "model = tf.keras.models.Sequential() "
   ]
  },
  {
   "cell_type": "code",
   "execution_count": 29,
   "id": "90c21afb",
   "metadata": {},
   "outputs": [],
   "source": [
    "model.add(tf.keras.layers.Dense(32, input_shape = (4,), activation = 'relu')) \n",
    "model.add(tf.keras.layers.Dense(3, activation='sigmoid')) "
   ]
  },
  {
   "cell_type": "code",
   "execution_count": 30,
   "id": "f30fa2ee",
   "metadata": {},
   "outputs": [],
   "source": [
    "model.compile(optimizer='rmsprop',\n",
    "                loss='mse',\n",
    "                metrics=['accuracy'])"
   ]
  },
  {
   "cell_type": "code",
   "execution_count": 31,
   "id": "2359ca82",
   "metadata": {},
   "outputs": [
    {
     "name": "stdout",
     "output_type": "stream",
     "text": [
      "Train on 120 samples\n",
      "Epoch 1/10\n",
      "120/120 [==============================] - 0s 3ms/sample - loss: 0.2771 - accuracy: 0.3083\n",
      "Epoch 2/10\n",
      "120/120 [==============================] - 0s 677us/sample - loss: 0.1939 - accuracy: 0.5667\n",
      "Epoch 3/10\n",
      "120/120 [==============================] - 0s 665us/sample - loss: 0.1665 - accuracy: 0.6667\n",
      "Epoch 4/10\n",
      "120/120 [==============================] - 0s 670us/sample - loss: 0.1421 - accuracy: 0.7083\n",
      "Epoch 5/10\n",
      "120/120 [==============================] - 0s 665us/sample - loss: 0.1264 - accuracy: 0.7083\n",
      "Epoch 6/10\n",
      "120/120 [==============================] - 0s 667us/sample - loss: 0.1167 - accuracy: 0.7167\n",
      "Epoch 7/10\n",
      "120/120 [==============================] - 0s 673us/sample - loss: 0.1101 - accuracy: 0.7000\n",
      "Epoch 8/10\n",
      "120/120 [==============================] - 0s 670us/sample - loss: 0.1047 - accuracy: 0.7333\n",
      "Epoch 9/10\n",
      "120/120 [==============================] - 0s 685us/sample - loss: 0.1013 - accuracy: 0.8000\n",
      "Epoch 10/10\n",
      "120/120 [==============================] - 0s 672us/sample - loss: 0.0986 - accuracy: 0.7667\n"
     ]
    },
    {
     "data": {
      "text/plain": [
       "<tensorflow.python.keras.callbacks.History at 0x7fac10ec8080>"
      ]
     },
     "execution_count": 31,
     "metadata": {},
     "output_type": "execute_result"
    }
   ],
   "source": [
    "model.fit(X_train, y_train, epochs = 10, batch_size = 1)"
   ]
  },
  {
   "cell_type": "code",
   "execution_count": 32,
   "id": "76098a9e",
   "metadata": {},
   "outputs": [
    {
     "name": "stdout",
     "output_type": "stream",
     "text": [
      "\r",
      "30/1 [====================================================================================================================================================================================================================================================================================================================================================================================================================================================================================================================================================================================================================================================================================================================================================================================================================================================================================================================================] - 0s 2ms/sample - loss: 0.1121 - accuracy: 0.6000\n"
     ]
    }
   ],
   "source": [
    "test_loss_m, test_acc_m = model.evaluate(X_test, y_test)"
   ]
  },
  {
   "cell_type": "code",
   "execution_count": 33,
   "id": "10bb8eff",
   "metadata": {},
   "outputs": [
    {
     "name": "stdout",
     "output_type": "stream",
     "text": [
      "DNN 정확도: 0.96666664\n",
      "MLP 정확도: 0.6\n"
     ]
    }
   ],
   "source": [
    "print('DNN 정확도:', test_acc_d)\n",
    "print('MLP 정확도:', test_acc_m)"
   ]
  },
  {
   "cell_type": "code",
   "execution_count": null,
   "id": "06172501",
   "metadata": {},
   "outputs": [],
   "source": []
  }
 ],
 "metadata": {
  "kernelspec": {
   "display_name": "Python 3 (ipykernel)",
   "language": "python",
   "name": "python3"
  },
  "language_info": {
   "codemirror_mode": {
    "name": "ipython",
    "version": 3
   },
   "file_extension": ".py",
   "mimetype": "text/x-python",
   "name": "python",
   "nbconvert_exporter": "python",
   "pygments_lexer": "ipython3",
   "version": "3.7.0"
  }
 },
 "nbformat": 4,
 "nbformat_minor": 5
}
