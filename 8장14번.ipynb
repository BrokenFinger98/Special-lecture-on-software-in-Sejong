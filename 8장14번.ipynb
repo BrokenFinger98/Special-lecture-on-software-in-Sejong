{
 "cells": [
  {
   "cell_type": "code",
   "execution_count": 41,
   "id": "7e1dd729",
   "metadata": {},
   "outputs": [],
   "source": [
    "import pandas as pd\n",
    "import tensorflow as tf\n",
    "from sklearn.model_selection import train_test_split\n",
    "import os\n",
    "os.chdir('/Users/yu-sun00/Downloads')"
   ]
  },
  {
   "cell_type": "code",
   "execution_count": 42,
   "id": "ad188a87",
   "metadata": {},
   "outputs": [],
   "source": [
    "dataset = pd.read_csv('seeds_dataset.txt', sep='\\s+|\\t', header = None)"
   ]
  },
  {
   "cell_type": "code",
   "execution_count": 43,
   "id": "c75a6a5c",
   "metadata": {},
   "outputs": [],
   "source": [
    "X = dataset.drop(7, axis = 1)\n",
    "y = dataset[7]"
   ]
  },
  {
   "cell_type": "code",
   "execution_count": 44,
   "id": "3b1d8f16",
   "metadata": {},
   "outputs": [
    {
     "name": "stdout",
     "output_type": "stream",
     "text": [
      "[1 2 3]\n"
     ]
    }
   ],
   "source": [
    "print(dataset[7].unique())"
   ]
  },
  {
   "cell_type": "code",
   "execution_count": 45,
   "id": "255ed219",
   "metadata": {},
   "outputs": [],
   "source": [
    "X_train, X_test, y_train, y_test = train_test_split(X, y, test_size=0.3, random_state = 1)"
   ]
  },
  {
   "cell_type": "code",
   "execution_count": 46,
   "id": "c4b22294",
   "metadata": {},
   "outputs": [],
   "source": [
    "model = tf.keras.models.Sequential()\n",
    "model.add(tf.keras.layers.Dense(32, activation='relu', input_shape=(7,)))\n",
    "model.add(tf.keras.layers.Dense(32, activation='relu'))\n",
    "model.add(tf.keras.layers.Dense(4, activation='softmax'))"
   ]
  },
  {
   "cell_type": "code",
   "execution_count": 47,
   "id": "2d164a75",
   "metadata": {},
   "outputs": [],
   "source": [
    "model.compile(optimizer='rmsprop',\n",
    "              loss='sparse_categorical_crossentropy',\n",
    "              metrics=['accuracy'])"
   ]
  },
  {
   "cell_type": "code",
   "execution_count": 48,
   "id": "a4bc549d",
   "metadata": {},
   "outputs": [
    {
     "name": "stdout",
     "output_type": "stream",
     "text": [
      "WARNING:tensorflow:Falling back from v2 loop because of error: Failed to find data adapter that can handle input: <class 'pandas.core.frame.DataFrame'>, <class 'NoneType'>\n",
      "Train on 147 samples\n",
      "Epoch 1/100\n",
      "147/147 [==============================] - 0s 2ms/sample - loss: 1.9109 - accuracy: 0.3333\n",
      "Epoch 2/100\n",
      "147/147 [==============================] - 0s 47us/sample - loss: 1.1547 - accuracy: 0.4082\n",
      "Epoch 3/100\n",
      "147/147 [==============================] - 0s 50us/sample - loss: 1.0287 - accuracy: 0.4558\n",
      "Epoch 4/100\n",
      "147/147 [==============================] - 0s 55us/sample - loss: 0.9850 - accuracy: 0.5578\n",
      "Epoch 5/100\n",
      "147/147 [==============================] - 0s 49us/sample - loss: 0.9598 - accuracy: 0.6190\n",
      "Epoch 6/100\n",
      "147/147 [==============================] - 0s 58us/sample - loss: 0.9276 - accuracy: 0.5510\n",
      "Epoch 7/100\n",
      "147/147 [==============================] - 0s 49us/sample - loss: 0.9077 - accuracy: 0.5918\n",
      "Epoch 8/100\n",
      "147/147 [==============================] - 0s 61us/sample - loss: 0.9155 - accuracy: 0.6599\n",
      "Epoch 9/100\n",
      "147/147 [==============================] - 0s 49us/sample - loss: 0.9054 - accuracy: 0.6327\n",
      "Epoch 10/100\n",
      "147/147 [==============================] - 0s 58us/sample - loss: 0.8797 - accuracy: 0.6190\n",
      "Epoch 11/100\n",
      "147/147 [==============================] - 0s 49us/sample - loss: 0.8639 - accuracy: 0.6463\n",
      "Epoch 12/100\n",
      "147/147 [==============================] - 0s 53us/sample - loss: 0.8434 - accuracy: 0.6463\n",
      "Epoch 13/100\n",
      "147/147 [==============================] - 0s 45us/sample - loss: 0.8200 - accuracy: 0.7347\n",
      "Epoch 14/100\n",
      "147/147 [==============================] - 0s 56us/sample - loss: 0.8108 - accuracy: 0.7279\n",
      "Epoch 15/100\n",
      "147/147 [==============================] - 0s 48us/sample - loss: 0.7994 - accuracy: 0.7075\n",
      "Epoch 16/100\n",
      "147/147 [==============================] - 0s 55us/sample - loss: 0.7960 - accuracy: 0.7143\n",
      "Epoch 17/100\n",
      "147/147 [==============================] - 0s 50us/sample - loss: 0.7741 - accuracy: 0.7143\n",
      "Epoch 18/100\n",
      "147/147 [==============================] - 0s 51us/sample - loss: 0.7606 - accuracy: 0.7415\n",
      "Epoch 19/100\n",
      "147/147 [==============================] - 0s 47us/sample - loss: 0.7385 - accuracy: 0.7823\n",
      "Epoch 20/100\n",
      "147/147 [==============================] - 0s 52us/sample - loss: 0.7196 - accuracy: 0.7619\n",
      "Epoch 21/100\n",
      "147/147 [==============================] - 0s 61us/sample - loss: 0.7337 - accuracy: 0.7687\n",
      "Epoch 22/100\n",
      "147/147 [==============================] - 0s 57us/sample - loss: 0.7101 - accuracy: 0.8503\n",
      "Epoch 23/100\n",
      "147/147 [==============================] - 0s 58us/sample - loss: 0.6824 - accuracy: 0.8299\n",
      "Epoch 24/100\n",
      "147/147 [==============================] - 0s 47us/sample - loss: 0.6862 - accuracy: 0.7823\n",
      "Epoch 25/100\n",
      "147/147 [==============================] - 0s 57us/sample - loss: 0.6570 - accuracy: 0.8163\n",
      "Epoch 26/100\n",
      "147/147 [==============================] - 0s 49us/sample - loss: 0.6770 - accuracy: 0.7891\n",
      "Epoch 27/100\n",
      "147/147 [==============================] - 0s 60us/sample - loss: 0.6493 - accuracy: 0.8503\n",
      "Epoch 28/100\n",
      "147/147 [==============================] - 0s 49us/sample - loss: 0.6317 - accuracy: 0.8707\n",
      "Epoch 29/100\n",
      "147/147 [==============================] - 0s 60us/sample - loss: 0.6230 - accuracy: 0.8367\n",
      "Epoch 30/100\n",
      "147/147 [==============================] - 0s 51us/sample - loss: 0.6393 - accuracy: 0.8095\n",
      "Epoch 31/100\n",
      "147/147 [==============================] - 0s 56us/sample - loss: 0.6168 - accuracy: 0.7959\n",
      "Epoch 32/100\n",
      "147/147 [==============================] - 0s 50us/sample - loss: 0.5953 - accuracy: 0.8503\n",
      "Epoch 33/100\n",
      "147/147 [==============================] - 0s 60us/sample - loss: 0.5988 - accuracy: 0.8503\n",
      "Epoch 34/100\n",
      "147/147 [==============================] - 0s 50us/sample - loss: 0.5939 - accuracy: 0.8367\n",
      "Epoch 35/100\n",
      "147/147 [==============================] - 0s 54us/sample - loss: 0.5676 - accuracy: 0.8503\n",
      "Epoch 36/100\n",
      "147/147 [==============================] - 0s 53us/sample - loss: 0.5693 - accuracy: 0.8639\n",
      "Epoch 37/100\n",
      "147/147 [==============================] - 0s 56us/sample - loss: 0.5600 - accuracy: 0.8435\n",
      "Epoch 38/100\n",
      "147/147 [==============================] - 0s 60us/sample - loss: 0.5723 - accuracy: 0.8027\n",
      "Epoch 39/100\n",
      "147/147 [==============================] - 0s 45us/sample - loss: 0.5364 - accuracy: 0.8571\n",
      "Epoch 40/100\n",
      "147/147 [==============================] - 0s 57us/sample - loss: 0.5502 - accuracy: 0.8367\n",
      "Epoch 41/100\n",
      "147/147 [==============================] - 0s 47us/sample - loss: 0.5442 - accuracy: 0.8639\n",
      "Epoch 42/100\n",
      "147/147 [==============================] - 0s 59us/sample - loss: 0.5255 - accuracy: 0.8639\n",
      "Epoch 43/100\n",
      "147/147 [==============================] - 0s 45us/sample - loss: 0.5237 - accuracy: 0.8571\n",
      "Epoch 44/100\n",
      "147/147 [==============================] - 0s 62us/sample - loss: 0.5093 - accuracy: 0.8776\n",
      "Epoch 45/100\n",
      "147/147 [==============================] - 0s 47us/sample - loss: 0.5022 - accuracy: 0.8639\n",
      "Epoch 46/100\n",
      "147/147 [==============================] - 0s 59us/sample - loss: 0.5393 - accuracy: 0.8231\n",
      "Epoch 47/100\n",
      "147/147 [==============================] - 0s 102us/sample - loss: 0.5084 - accuracy: 0.8503\n",
      "Epoch 48/100\n",
      "147/147 [==============================] - 0s 58us/sample - loss: 0.4956 - accuracy: 0.8503\n",
      "Epoch 49/100\n",
      "147/147 [==============================] - 0s 58us/sample - loss: 0.4895 - accuracy: 0.8707\n",
      "Epoch 50/100\n",
      "147/147 [==============================] - 0s 56us/sample - loss: 0.4783 - accuracy: 0.8503\n",
      "Epoch 51/100\n",
      "147/147 [==============================] - 0s 49us/sample - loss: 0.4955 - accuracy: 0.8367\n",
      "Epoch 52/100\n",
      "147/147 [==============================] - 0s 69us/sample - loss: 0.4598 - accuracy: 0.8639\n",
      "Epoch 53/100\n",
      "147/147 [==============================] - 0s 68us/sample - loss: 0.4594 - accuracy: 0.8980\n",
      "Epoch 54/100\n",
      "147/147 [==============================] - 0s 62us/sample - loss: 0.4816 - accuracy: 0.8367\n",
      "Epoch 55/100\n",
      "147/147 [==============================] - 0s 47us/sample - loss: 0.4545 - accuracy: 0.8503\n",
      "Epoch 56/100\n",
      "147/147 [==============================] - 0s 62us/sample - loss: 0.4552 - accuracy: 0.8776\n",
      "Epoch 57/100\n",
      "147/147 [==============================] - 0s 48us/sample - loss: 0.4421 - accuracy: 0.8639\n",
      "Epoch 58/100\n",
      "147/147 [==============================] - 0s 58us/sample - loss: 0.4321 - accuracy: 0.8639\n",
      "Epoch 59/100\n",
      "147/147 [==============================] - 0s 45us/sample - loss: 0.4495 - accuracy: 0.8571\n",
      "Epoch 60/100\n",
      "147/147 [==============================] - 0s 53us/sample - loss: 0.4240 - accuracy: 0.8639\n",
      "Epoch 61/100\n",
      "147/147 [==============================] - 0s 44us/sample - loss: 0.4317 - accuracy: 0.8707\n",
      "Epoch 62/100\n",
      "147/147 [==============================] - 0s 53us/sample - loss: 0.4301 - accuracy: 0.8571\n",
      "Epoch 63/100\n",
      "147/147 [==============================] - 0s 60us/sample - loss: 0.4309 - accuracy: 0.8571\n",
      "Epoch 64/100\n",
      "147/147 [==============================] - 0s 48us/sample - loss: 0.4080 - accuracy: 0.8707\n",
      "Epoch 65/100\n",
      "147/147 [==============================] - 0s 50us/sample - loss: 0.4283 - accuracy: 0.8639\n",
      "Epoch 66/100\n",
      "147/147 [==============================] - 0s 46us/sample - loss: 0.3960 - accuracy: 0.8844\n",
      "Epoch 67/100\n",
      "147/147 [==============================] - 0s 43us/sample - loss: 0.4001 - accuracy: 0.8776\n",
      "Epoch 68/100\n",
      "147/147 [==============================] - 0s 55us/sample - loss: 0.4278 - accuracy: 0.8503\n",
      "Epoch 69/100\n",
      "147/147 [==============================] - 0s 44us/sample - loss: 0.3966 - accuracy: 0.8844\n",
      "Epoch 70/100\n",
      "147/147 [==============================] - 0s 53us/sample - loss: 0.4030 - accuracy: 0.8707\n",
      "Epoch 71/100\n",
      "147/147 [==============================] - 0s 46us/sample - loss: 0.4020 - accuracy: 0.8707\n",
      "Epoch 72/100\n",
      "147/147 [==============================] - 0s 53us/sample - loss: 0.3849 - accuracy: 0.8503\n",
      "Epoch 73/100\n",
      "147/147 [==============================] - 0s 45us/sample - loss: 0.3731 - accuracy: 0.8707\n",
      "Epoch 74/100\n",
      "147/147 [==============================] - 0s 53us/sample - loss: 0.3842 - accuracy: 0.8639\n",
      "Epoch 75/100\n",
      "147/147 [==============================] - 0s 45us/sample - loss: 0.3996 - accuracy: 0.8571\n",
      "Epoch 76/100\n",
      "147/147 [==============================] - 0s 54us/sample - loss: 0.3656 - accuracy: 0.8980\n",
      "Epoch 77/100\n"
     ]
    },
    {
     "name": "stdout",
     "output_type": "stream",
     "text": [
      "147/147 [==============================] - 0s 46us/sample - loss: 0.3830 - accuracy: 0.8639\n",
      "Epoch 78/100\n",
      "147/147 [==============================] - 0s 52us/sample - loss: 0.3709 - accuracy: 0.8639\n",
      "Epoch 79/100\n",
      "147/147 [==============================] - 0s 45us/sample - loss: 0.3638 - accuracy: 0.9116\n",
      "Epoch 80/100\n",
      "147/147 [==============================] - 0s 52us/sample - loss: 0.3987 - accuracy: 0.8503\n",
      "Epoch 81/100\n",
      "147/147 [==============================] - 0s 44us/sample - loss: 0.3542 - accuracy: 0.8707\n",
      "Epoch 82/100\n",
      "147/147 [==============================] - 0s 52us/sample - loss: 0.3508 - accuracy: 0.8912\n",
      "Epoch 83/100\n",
      "147/147 [==============================] - 0s 46us/sample - loss: 0.3671 - accuracy: 0.8503\n",
      "Epoch 84/100\n",
      "147/147 [==============================] - 0s 44us/sample - loss: 0.3547 - accuracy: 0.9048\n",
      "Epoch 85/100\n",
      "147/147 [==============================] - 0s 51us/sample - loss: 0.3593 - accuracy: 0.8707\n",
      "Epoch 86/100\n",
      "147/147 [==============================] - 0s 46us/sample - loss: 0.3509 - accuracy: 0.9116\n",
      "Epoch 87/100\n",
      "147/147 [==============================] - 0s 48us/sample - loss: 0.3566 - accuracy: 0.8707\n",
      "Epoch 88/100\n",
      "147/147 [==============================] - 0s 45us/sample - loss: 0.3467 - accuracy: 0.9048\n",
      "Epoch 89/100\n",
      "147/147 [==============================] - 0s 52us/sample - loss: 0.3313 - accuracy: 0.8844\n",
      "Epoch 90/100\n",
      "147/147 [==============================] - 0s 57us/sample - loss: 0.3404 - accuracy: 0.8776\n",
      "Epoch 91/100\n",
      "147/147 [==============================] - 0s 46us/sample - loss: 0.3371 - accuracy: 0.8980\n",
      "Epoch 92/100\n",
      "147/147 [==============================] - 0s 45us/sample - loss: 0.3624 - accuracy: 0.8707\n",
      "Epoch 93/100\n",
      "147/147 [==============================] - 0s 55us/sample - loss: 0.3433 - accuracy: 0.8912\n",
      "Epoch 94/100\n",
      "147/147 [==============================] - 0s 44us/sample - loss: 0.3340 - accuracy: 0.8776\n",
      "Epoch 95/100\n",
      "147/147 [==============================] - 0s 52us/sample - loss: 0.3367 - accuracy: 0.8639\n",
      "Epoch 96/100\n",
      "147/147 [==============================] - 0s 46us/sample - loss: 0.3302 - accuracy: 0.8844\n",
      "Epoch 97/100\n",
      "147/147 [==============================] - 0s 47us/sample - loss: 0.3268 - accuracy: 0.8912\n",
      "Epoch 98/100\n",
      "147/147 [==============================] - 0s 45us/sample - loss: 0.3499 - accuracy: 0.8912\n",
      "Epoch 99/100\n",
      "147/147 [==============================] - 0s 51us/sample - loss: 0.3436 - accuracy: 0.8231\n",
      "Epoch 100/100\n",
      "147/147 [==============================] - 0s 42us/sample - loss: 0.3160 - accuracy: 0.8707\n"
     ]
    },
    {
     "data": {
      "text/plain": [
       "<tensorflow.python.keras.callbacks.History at 0x7fddae741da0>"
      ]
     },
     "execution_count": 48,
     "metadata": {},
     "output_type": "execute_result"
    }
   ],
   "source": [
    "model.fit(X_train, y_train, epochs = 100, batch_size = 32)"
   ]
  },
  {
   "cell_type": "code",
   "execution_count": 50,
   "id": "58191dc7",
   "metadata": {},
   "outputs": [
    {
     "name": "stdout",
     "output_type": "stream",
     "text": [
      "WARNING:tensorflow:Falling back from v2 loop because of error: Failed to find data adapter that can handle input: <class 'pandas.core.frame.DataFrame'>, <class 'NoneType'>\n",
      "63/63 [==============================] - 0s 114us/sample - loss: 0.3494 - accuracy: 0.9206\n"
     ]
    }
   ],
   "source": [
    "test_loss, test_acc = model.evaluate(X_test, y_test)"
   ]
  },
  {
   "cell_type": "code",
   "execution_count": 51,
   "id": "1ed325e5",
   "metadata": {},
   "outputs": [
    {
     "name": "stdout",
     "output_type": "stream",
     "text": [
      "[1 2 3]\n",
      "테스트 정확도: 0.9206349\n"
     ]
    }
   ],
   "source": [
    "print(dataset[7].unique())\n",
    "print('테스트 정확도:', test_acc)"
   ]
  }
 ],
 "metadata": {
  "kernelspec": {
   "display_name": "Python 3 (ipykernel)",
   "language": "python",
   "name": "python3"
  },
  "language_info": {
   "codemirror_mode": {
    "name": "ipython",
    "version": 3
   },
   "file_extension": ".py",
   "mimetype": "text/x-python",
   "name": "python",
   "nbconvert_exporter": "python",
   "pygments_lexer": "ipython3",
   "version": "3.7.0"
  }
 },
 "nbformat": 4,
 "nbformat_minor": 5
}
