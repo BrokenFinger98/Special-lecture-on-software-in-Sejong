{
 "cells": [
  {
   "cell_type": "code",
   "execution_count": 42,
   "id": "fdfd7e9c",
   "metadata": {},
   "outputs": [],
   "source": [
    "import matplotlib.pyplot as plt\n",
    "import tensorflow as tf\n",
    "from tensorflow.keras.datasets import boston_housing"
   ]
  },
  {
   "cell_type": "code",
   "execution_count": 43,
   "id": "65881fd5",
   "metadata": {},
   "outputs": [],
   "source": [
    "(X_train, y_train), (X_test, y_test)= boston_housing.load_data()"
   ]
  },
  {
   "cell_type": "code",
   "execution_count": 44,
   "id": "fb181ec9",
   "metadata": {},
   "outputs": [],
   "source": [
    "mean = X_train.mean(axis = 0)\n",
    "std = X_train.std(axis = 0)\n",
    "X_train = (X_train - mean)/std\n",
    "X_test = (X_test - mean)/std"
   ]
  },
  {
   "cell_type": "code",
   "execution_count": 45,
   "id": "e8db9b86",
   "metadata": {},
   "outputs": [],
   "source": [
    "model = tf.keras.models.Sequential()"
   ]
  },
  {
   "cell_type": "code",
   "execution_count": 46,
   "id": "95a64905",
   "metadata": {},
   "outputs": [],
   "source": [
    "model.add(tf.keras.layers.Dense(32, input_shape = (13,), activation='relu')) \n",
    "model.add(tf.keras.layers.Dense(1))"
   ]
  },
  {
   "cell_type": "code",
   "execution_count": 47,
   "id": "4de4a572",
   "metadata": {},
   "outputs": [],
   "source": [
    "model.compile(optimizer='rmsprop', loss='mse', metrics=['accuracy'])"
   ]
  },
  {
   "cell_type": "code",
   "execution_count": 48,
   "id": "b61e07a5",
   "metadata": {},
   "outputs": [
    {
     "name": "stdout",
     "output_type": "stream",
     "text": [
      "Train on 404 samples\n",
      "Epoch 1/20\n",
      "404/404 [==============================] - 0s 995us/sample - loss: 550.9947 - accuracy: 0.0000e+00\n",
      "Epoch 2/20\n",
      "404/404 [==============================] - 0s 88us/sample - loss: 507.9888 - accuracy: 0.0000e+00\n",
      "Epoch 3/20\n",
      "404/404 [==============================] - 0s 88us/sample - loss: 460.3040 - accuracy: 0.0000e+00\n",
      "Epoch 4/20\n",
      "404/404 [==============================] - 0s 89us/sample - loss: 409.2551 - accuracy: 0.0000e+00\n",
      "Epoch 5/20\n",
      "404/404 [==============================] - 0s 85us/sample - loss: 356.5284 - accuracy: 0.0000e+00\n",
      "Epoch 6/20\n",
      "404/404 [==============================] - 0s 86us/sample - loss: 302.8507 - accuracy: 0.0000e+00\n",
      "Epoch 7/20\n",
      "404/404 [==============================] - 0s 85us/sample - loss: 251.3551 - accuracy: 0.0000e+00\n",
      "Epoch 8/20\n",
      "404/404 [==============================] - 0s 86us/sample - loss: 203.2392 - accuracy: 0.0000e+00\n",
      "Epoch 9/20\n",
      "404/404 [==============================] - 0s 90us/sample - loss: 162.6174 - accuracy: 0.0000e+00\n",
      "Epoch 10/20\n",
      "404/404 [==============================] - 0s 87us/sample - loss: 128.8766 - accuracy: 0.0000e+00\n",
      "Epoch 11/20\n",
      "404/404 [==============================] - 0s 87us/sample - loss: 102.7403 - accuracy: 0.0000e+00\n",
      "Epoch 12/20\n",
      "404/404 [==============================] - 0s 87us/sample - loss: 82.4806 - accuracy: 0.0000e+00\n",
      "Epoch 13/20\n",
      "404/404 [==============================] - 0s 85us/sample - loss: 68.1341 - accuracy: 0.0000e+00\n",
      "Epoch 14/20\n",
      "404/404 [==============================] - 0s 86us/sample - loss: 56.5263 - accuracy: 0.0000e+00\n",
      "Epoch 15/20\n",
      "404/404 [==============================] - 0s 86us/sample - loss: 47.0674 - accuracy: 0.0000e+00\n",
      "Epoch 16/20\n",
      "404/404 [==============================] - 0s 86us/sample - loss: 40.4703 - accuracy: 0.0000e+00\n",
      "Epoch 17/20\n",
      "404/404 [==============================] - 0s 85us/sample - loss: 35.8219 - accuracy: 0.0000e+00\n",
      "Epoch 18/20\n",
      "404/404 [==============================] - 0s 91us/sample - loss: 32.5401 - accuracy: 0.0000e+00\n",
      "Epoch 19/20\n",
      "404/404 [==============================] - 0s 88us/sample - loss: 30.3169 - accuracy: 0.0000e+00\n",
      "Epoch 20/20\n",
      "404/404 [==============================] - 0s 86us/sample - loss: 28.5405 - accuracy: 0.0000e+00\n"
     ]
    },
    {
     "data": {
      "text/plain": [
       "<tensorflow.python.keras.callbacks.History at 0x7f9ac106b160>"
      ]
     },
     "execution_count": 48,
     "metadata": {},
     "output_type": "execute_result"
    }
   ],
   "source": [
    "model.fit(X_train, y_train, epochs=20, batch_size=10)"
   ]
  },
  {
   "cell_type": "code",
   "execution_count": 49,
   "id": "871e50e5",
   "metadata": {},
   "outputs": [],
   "source": [
    "y_pred = model.predict(X_test)"
   ]
  },
  {
   "cell_type": "code",
   "execution_count": 53,
   "id": "4e5638f3",
   "metadata": {},
   "outputs": [
    {
     "data": {
      "text/plain": [
       "Text(0, 0.5, 'pred')"
      ]
     },
     "execution_count": 53,
     "metadata": {},
     "output_type": "execute_result"
    },
    {
     "data": {
      "image/png": "[encoded data removed]",
      "text/plain": [
       "<Figure size 500x500 with 1 Axes>"
      ]
     },
     "metadata": {},
     "output_type": "display_data"
    }
   ],
   "source": [
    "plt.figure(figsize=(5, 5))\n",
    "plt.scatter(y_test, y_pred, c = 'red')\n",
    "plt.plot([min(y_test), max(y_test)], [min(y_test), max(y_test)], c = 'black')\n",
    "plt.xlabel('test')\n",
    "plt.ylabel('pred')"
   ]
  },
  {
   "cell_type": "code",
   "execution_count": null,
   "id": "abd8cdcc",
   "metadata": {},
   "outputs": [],
   "source": []
  }
 ],
 "metadata": {
  "kernelspec": {
   "display_name": "Python 3 (ipykernel)",
   "language": "python",
   "name": "python3"
  },
  "language_info": {
   "codemirror_mode": {
    "name": "ipython",
    "version": 3
   },
   "file_extension": ".py",
   "mimetype": "text/x-python",
   "name": "python",
   "nbconvert_exporter": "python",
   "pygments_lexer": "ipython3",
   "version": "3.7.0"
  }
 },
 "nbformat": 4,
 "nbformat_minor": 5
}
