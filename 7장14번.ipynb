{
 "cells": [
  {
   "cell_type": "code",
   "execution_count": 2,
   "id": "336c1646",
   "metadata": {},
   "outputs": [],
   "source": [
    "from sklearn import datasets\n",
    "from sklearn.model_selection import train_test_split\n",
    "import tensorflow as tf"
   ]
  },
  {
   "cell_type": "code",
   "execution_count": 3,
   "id": "66b8b5af",
   "metadata": {},
   "outputs": [],
   "source": [
    "classes = {0:'setosa', 1:'versicolor', 2:'virginica'}"
   ]
  },
  {
   "cell_type": "code",
   "execution_count": 4,
   "id": "21b0fd52",
   "metadata": {},
   "outputs": [],
   "source": [
    "iris = datasets.load_iris()"
   ]
  },
  {
   "cell_type": "code",
   "execution_count": 5,
   "id": "846895a4",
   "metadata": {},
   "outputs": [],
   "source": [
    "X = iris.data\n",
    "y = iris.target\n",
    "y = tf.keras.utils.to_categorical(y)"
   ]
  },
  {
   "cell_type": "code",
   "execution_count": 6,
   "id": "703f9152",
   "metadata": {},
   "outputs": [],
   "source": [
    "X_train, X_test, y_train, y_test = train_test_split(X, y, test_size=0.2, random_state = 1)"
   ]
  },
  {
   "cell_type": "code",
   "execution_count": 7,
   "id": "25702d40",
   "metadata": {},
   "outputs": [],
   "source": [
    "model = tf.keras.models.Sequential() "
   ]
  },
  {
   "cell_type": "code",
   "execution_count": 8,
   "id": "e0f0d4ee",
   "metadata": {},
   "outputs": [],
   "source": [
    "model.add(tf.keras.layers.Dense(32, input_shape = (4,), activation = 'relu')) \n",
    "model.add(tf.keras.layers.Dense(32, activation='relu'))\n",
    "model.add(tf.keras.layers.Dense(3, activation='sigmoid')) "
   ]
  },
  {
   "cell_type": "code",
   "execution_count": 9,
   "id": "28bb7d4d",
   "metadata": {},
   "outputs": [],
   "source": [
    "model.compile(optimizer='rmsprop',\n",
    "                loss='mse',\n",
    "                metrics=['accuracy'])"
   ]
  },
  {
   "cell_type": "code",
   "execution_count": 10,
   "id": "b3ef116c",
   "metadata": {},
   "outputs": [
    {
     "name": "stdout",
     "output_type": "stream",
     "text": [
      "Train on 120 samples\n",
      "Epoch 1/20\n",
      "120/120 [==============================] - 1s 5ms/sample - loss: 0.1860 - accuracy: 0.5833\n",
      "Epoch 2/20\n",
      "120/120 [==============================] - 0s 828us/sample - loss: 0.1437 - accuracy: 0.7583\n",
      "Epoch 3/20\n",
      "120/120 [==============================] - 0s 822us/sample - loss: 0.1169 - accuracy: 0.7167\n",
      "Epoch 4/20\n",
      "120/120 [==============================] - 0s 813us/sample - loss: 0.1012 - accuracy: 0.7500\n",
      "Epoch 5/20\n",
      "120/120 [==============================] - 0s 802us/sample - loss: 0.0925 - accuracy: 0.8417\n",
      "Epoch 6/20\n",
      "120/120 [==============================] - 0s 798us/sample - loss: 0.0857 - accuracy: 0.9000\n",
      "Epoch 7/20\n",
      "120/120 [==============================] - 0s 809us/sample - loss: 0.0786 - accuracy: 0.8750\n",
      "Epoch 8/20\n",
      "120/120 [==============================] - 0s 811us/sample - loss: 0.0693 - accuracy: 0.9167\n",
      "Epoch 9/20\n",
      "120/120 [==============================] - 0s 809us/sample - loss: 0.0604 - accuracy: 0.9333\n",
      "Epoch 10/20\n",
      "120/120 [==============================] - 0s 800us/sample - loss: 0.0567 - accuracy: 0.9250\n",
      "Epoch 11/20\n",
      "120/120 [==============================] - 0s 803us/sample - loss: 0.0476 - accuracy: 0.9333\n",
      "Epoch 12/20\n",
      "120/120 [==============================] - 0s 797us/sample - loss: 0.0415 - accuracy: 0.9417\n",
      "Epoch 13/20\n",
      "120/120 [==============================] - 0s 813us/sample - loss: 0.0371 - accuracy: 0.9583\n",
      "Epoch 14/20\n",
      "120/120 [==============================] - 0s 807us/sample - loss: 0.0352 - accuracy: 0.9583\n",
      "Epoch 15/20\n",
      "120/120 [==============================] - 0s 805us/sample - loss: 0.0302 - accuracy: 0.9417\n",
      "Epoch 16/20\n",
      "120/120 [==============================] - 0s 809us/sample - loss: 0.0301 - accuracy: 0.9583\n",
      "Epoch 17/20\n",
      "120/120 [==============================] - 0s 806us/sample - loss: 0.0293 - accuracy: 0.9333\n",
      "Epoch 18/20\n",
      "120/120 [==============================] - 0s 804us/sample - loss: 0.0254 - accuracy: 0.9667\n",
      "Epoch 19/20\n",
      "120/120 [==============================] - 0s 805us/sample - loss: 0.0261 - accuracy: 0.9583\n",
      "Epoch 20/20\n",
      "120/120 [==============================] - 0s 807us/sample - loss: 0.0251 - accuracy: 0.9417\n"
     ]
    },
    {
     "data": {
      "text/plain": [
       "<tensorflow.python.keras.callbacks.History at 0x7fa27df63048>"
      ]
     },
     "execution_count": 10,
     "metadata": {},
     "output_type": "execute_result"
    }
   ],
   "source": [
    "model.fit(X_train, y_train, epochs = 20, batch_size = 1)"
   ]
  },
  {
   "cell_type": "code",
   "execution_count": 13,
   "id": "47dccddc",
   "metadata": {},
   "outputs": [
    {
     "name": "stdout",
     "output_type": "stream",
     "text": [
      "30/1 [====================================================================================================================================================================================================================================================================================================================================================================================================================================================================================================================================================================================================================================================================================================================================================================================================================================================================================================================================] - 0s 178us/sample - loss: 0.0227 - accuracy: 0.9667\n",
      "정확도: 0.96666664\n"
     ]
    }
   ],
   "source": [
    "loss, accuracy = model.evaluate(X_test, y_test)\n",
    "print('정확도:', accuracy)"
   ]
  },
  {
   "cell_type": "code",
   "execution_count": 14,
   "id": "a91c25f1",
   "metadata": {},
   "outputs": [
    {
     "name": "stdout",
     "output_type": "stream",
     "text": [
      "예상되는 종:  versicolor\n"
     ]
    }
   ],
   "source": [
    "y_pred = model.predict([[3, 2, 1.5, 2]])\n",
    "print('예상되는 종: ', classes[y_pred.argmax()])"
   ]
  },
  {
   "cell_type": "code",
   "execution_count": null,
   "id": "0bd2145b",
   "metadata": {},
   "outputs": [],
   "source": []
  }
 ],
 "metadata": {
  "kernelspec": {
   "display_name": "Python 3 (ipykernel)",
   "language": "python",
   "name": "python3"
  },
  "language_info": {
   "codemirror_mode": {
    "name": "ipython",
    "version": 3
   },
   "file_extension": ".py",
   "mimetype": "text/x-python",
   "name": "python",
   "nbconvert_exporter": "python",
   "pygments_lexer": "ipython3",
   "version": "3.7.0"
  }
 },
 "nbformat": 4,
 "nbformat_minor": 5
}
