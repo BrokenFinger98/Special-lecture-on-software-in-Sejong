{
 "cells": [
  {
   "cell_type": "code",
   "execution_count": 14,
   "id": "482717d6",
   "metadata": {},
   "outputs": [],
   "source": [
    "import numpy as np"
   ]
  },
  {
   "cell_type": "code",
   "execution_count": 15,
   "id": "394b5db4",
   "metadata": {},
   "outputs": [],
   "source": [
    "def relu(x):\n",
    "    return np.maximum(x, 0)"
   ]
  },
  {
   "cell_type": "code",
   "execution_count": 16,
   "id": "9f31c5a7",
   "metadata": {},
   "outputs": [],
   "source": [
    "def relu_der(x):\n",
    "    x[x <= 0] = 0\n",
    "    x[x > 0] = 1\n",
    "    return x"
   ]
  },
  {
   "cell_type": "code",
   "execution_count": 17,
   "id": "91e1049f",
   "metadata": {},
   "outputs": [],
   "source": [
    "inputs, hiddens, outputs = 2, 3, 1\n",
    "learning_rate = 0.2"
   ]
  },
  {
   "cell_type": "code",
   "execution_count": 18,
   "id": "e38bb090",
   "metadata": {},
   "outputs": [],
   "source": [
    "X = np.array([[1, 1]])\n",
    "T = np.array([[0]])"
   ]
  },
  {
   "cell_type": "code",
   "execution_count": 19,
   "id": "302b4ea9",
   "metadata": {},
   "outputs": [],
   "source": [
    "W1 = np.array([[0.8, 0.4, 0.3], [0.2, 0.9, 0.5]])\n",
    "W2 = np.array([[0.3], [0.5], [0.9]])"
   ]
  },
  {
   "cell_type": "code",
   "execution_count": 20,
   "id": "662e59d2",
   "metadata": {},
   "outputs": [],
   "source": [
    "def predict(x):\n",
    "    layer0 = x  \n",
    "    Z1 = np.dot(layer0, W1)\n",
    "    layer1 = relu(Z1)\n",
    "    Z2 = np.dot(layer1, W2)\n",
    "    layer2 = relu(Z2)\n",
    "    return layer0, layer1, layer2"
   ]
  },
  {
   "cell_type": "code",
   "execution_count": 24,
   "id": "653c58c3",
   "metadata": {},
   "outputs": [],
   "source": [
    "def fit():\n",
    "    global W1, W2\n",
    "    for i in range(1):  \n",
    "        for x, y in zip(X, T):  \n",
    "            x = np.reshape(x, (1, -1))\n",
    "            y = np.reshape(y, (1, -1))\n",
    "\n",
    "            layer0, layer1, layer2 = predict(x)  \n",
    "            layer2_error = layer2 - y  \n",
    "            layer2_delta = layer2_error * relu_der(layer2)  \n",
    "            layer1_error = np.dot(layer2_delta, W2.T)  \n",
    "            layer1_delta = layer1_error * relu_der(layer1)  \n",
    "\n",
    "            W2 += -learning_rate * np.dot(layer1.T, layer2_delta)\n",
    "            W1 += -learning_rate * np.dot(layer0.T, layer1_delta)"
   ]
  },
  {
   "cell_type": "code",
   "execution_count": 25,
   "id": "2af8ab59",
   "metadata": {},
   "outputs": [],
   "source": [
    "def test():\n",
    "    for x, y in zip(X, T):\n",
    "        x = np.reshape(x, (1, -1))  \n",
    "        layer0, layer1, layer2 = predict(x)\n",
    "        print(x, y, layer2, \"\\n\")  "
   ]
  },
  {
   "cell_type": "code",
   "execution_count": 26,
   "id": "66bd5d18",
   "metadata": {},
   "outputs": [
    {
     "name": "stdout",
     "output_type": "stream",
     "text": [
      "[[1 1]] [0] [[0.11822921]] \n",
      "\n"
     ]
    }
   ],
   "source": [
    "fit()\n",
    "test()"
   ]
  },
  {
   "cell_type": "code",
   "execution_count": null,
   "id": "bab42e5f",
   "metadata": {},
   "outputs": [],
   "source": []
  }
 ],
 "metadata": {
  "kernelspec": {
   "display_name": "Python 3 (ipykernel)",
   "language": "python",
   "name": "python3"
  },
  "language_info": {
   "codemirror_mode": {
    "name": "ipython",
    "version": 3
   },
   "file_extension": ".py",
   "mimetype": "text/x-python",
   "name": "python",
   "nbconvert_exporter": "python",
   "pygments_lexer": "ipython3",
   "version": "3.7.0"
  }
 },
 "nbformat": 4,
 "nbformat_minor": 5
}
