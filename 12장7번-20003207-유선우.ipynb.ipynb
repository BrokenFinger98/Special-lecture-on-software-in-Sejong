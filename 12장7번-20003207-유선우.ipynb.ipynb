{
 "cells": [
  {
   "cell_type": "code",
   "execution_count": 2,
   "id": "b0000e6b",
   "metadata": {},
   "outputs": [
    {
     "name": "stderr",
     "output_type": "stream",
     "text": [
      "[nltk_data] Downloading package gutenberg to /Users/yu-\n",
      "[nltk_data]     sun00/nltk_data...\n",
      "[nltk_data]   Package gutenberg is already up-to-date!\n"
     ]
    },
    {
     "name": "stdout",
     "output_type": "stream",
     "text": [
      "[(',', 0.9785684943199158), (';', 0.9782817363739014), ('herself', 0.9781830310821533), ('grow', 0.978159487247467), ('put', 0.9780094027519226), ('said', 0.9778921604156494), ('(', 0.977888286113739), ('far', 0.97788405418396), ('about', 0.9778480529785156), ('on', 0.9778271913528442)]\n"
     ]
    }
   ],
   "source": [
    "import nltk\n",
    "nltk.download('gutenberg')\n",
    "\n",
    "from nltk.corpus import gutenberg\n",
    "from gensim.models import Word2Vec\n",
    "\n",
    "# 말뭉치 로드\n",
    "corpus = gutenberg.sents(\"carroll-alice.txt\")\n",
    "\n",
    "# Word2Vec 모델 학습\n",
    "model = Word2Vec(corpus, vector_size=100, window=5, min_count=5, workers=4)\n",
    "\n",
    "# 모델 사용 예시\n",
    "similar_words = model.wv.most_similar(\"rabbit\")\n",
    "print(similar_words)\n"
   ]
  },
  {
   "cell_type": "code",
   "execution_count": null,
   "id": "4a3d5599",
   "metadata": {},
   "outputs": [],
   "source": []
  }
 ],
 "metadata": {
  "kernelspec": {
   "display_name": "Python 3 (ipykernel)",
   "language": "python",
   "name": "python3"
  },
  "language_info": {
   "codemirror_mode": {
    "name": "ipython",
    "version": 3
   },
   "file_extension": ".py",
   "mimetype": "text/x-python",
   "name": "python",
   "nbconvert_exporter": "python",
   "pygments_lexer": "ipython3",
   "version": "3.7.0"
  }
 },
 "nbformat": 4,
 "nbformat_minor": 5
}
